{
 "cells": [
  {
   "cell_type": "code",
   "execution_count": 4,
   "id": "f3b82f7f",
   "metadata": {},
   "outputs": [
    {
     "name": "stdout",
     "output_type": "stream",
     "text": [
      "Hello world 😁\n"
     ]
    }
   ],
   "source": [
    "print(\"Hello world 😁\")"
   ]
  },
  {
   "cell_type": "code",
   "execution_count": 5,
   "id": "6617ba3c",
   "metadata": {},
   "outputs": [
    {
     "data": {
      "text/plain": [
       "' Un comentario '"
      ]
     },
     "execution_count": 5,
     "metadata": {},
     "output_type": "execute_result"
    }
   ],
   "source": [
    "# \"\"\" Un comentario \"\"\""
   ]
  },
  {
   "cell_type": "code",
   "execution_count": 6,
   "id": "4cc34857",
   "metadata": {},
   "outputs": [
    {
     "data": {
      "text/plain": [
       "'\\nhola\\ncomo \\nestas\\n\\n'"
      ]
     },
     "execution_count": 6,
     "metadata": {},
     "output_type": "execute_result"
    }
   ],
   "source": [
    "\"\"\"\n",
    "comentario\n",
    "multilinea\n",
    "\"\"\""
   ]
  },
  {
   "cell_type": "code",
   "execution_count": 8,
   "id": "b9e17ea3",
   "metadata": {},
   "outputs": [
    {
     "name": "stdout",
     "output_type": "stream",
     "text": [
      "Ingresa algo:hola\n",
      "hola\n"
     ]
    }
   ],
   "source": [
    "# variables e inputs\n",
    "something=input(\"Ingresa algo:\")\n",
    "print(something)"
   ]
  },
  {
   "cell_type": "code",
   "execution_count": 1,
   "id": "50f0c240",
   "metadata": {},
   "outputs": [
    {
     "name": "stdout",
     "output_type": "stream",
     "text": [
      "Ingresa algo:12\n",
      "<class 'str'>\n"
     ]
    }
   ],
   "source": [
    "something=input(\"Ingresa algo:\")\n",
    "print(type(something))"
   ]
  },
  {
   "cell_type": "code",
   "execution_count": 2,
   "id": "96a4193c",
   "metadata": {},
   "outputs": [
    {
     "name": "stdout",
     "output_type": "stream",
     "text": [
      "Ingresa un numero: 12\n",
      "<class 'int'>\n"
     ]
    }
   ],
   "source": [
    "this_a_number=int(input(\"Ingresa un numero: \"))\n",
    "print(type(this_a_number))"
   ]
  },
  {
   "cell_type": "markdown",
   "id": "4ab74d68",
   "metadata": {},
   "source": [
    "# Clases"
   ]
  },
  {
   "cell_type": "code",
   "execution_count": 19,
   "id": "1ede545c",
   "metadata": {},
   "outputs": [],
   "source": [
    "class Car:\n",
    "    model=\"\"\n",
    "    year=\"\"\n",
    "    brand=\"\"\n",
    "    def __init__(self,model,year,brand):\n",
    "        self.model=model\n",
    "        self.year=year\n",
    "        self.brand=brand\n",
    "    def __str__(self):\n",
    "        return f'{self.model} , {self.year} , {self.brand}'"
   ]
  },
  {
   "cell_type": "code",
   "execution_count": 20,
   "id": "73b8b1a2",
   "metadata": {},
   "outputs": [
    {
     "name": "stdout",
     "output_type": "stream",
     "text": [
      "Mazda 6 , 2023 , Mazda\n"
     ]
    }
   ],
   "source": [
    "mazda6=Car(\"Mazda 6\",2023,\"Mazda\")\n",
    "print(mazda6)"
   ]
  },
  {
   "cell_type": "code",
   "execution_count": null,
   "id": "31dabff2",
   "metadata": {},
   "outputs": [],
   "source": []
  }
 ],
 "metadata": {
  "kernelspec": {
   "display_name": "Python 3 (ipykernel)",
   "language": "python",
   "name": "python3"
  },
  "language_info": {
   "codemirror_mode": {
    "name": "ipython",
    "version": 3
   },
   "file_extension": ".py",
   "mimetype": "text/x-python",
   "name": "python",
   "nbconvert_exporter": "python",
   "pygments_lexer": "ipython3",
   "version": "3.9.7"
  }
 },
 "nbformat": 4,
 "nbformat_minor": 5
}
